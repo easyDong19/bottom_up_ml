{
 "cells": [
  {
   "cell_type": "code",
   "execution_count": 39,
   "id": "initial_id",
   "metadata": {
    "collapsed": true,
    "ExecuteTime": {
     "end_time": "2024-01-04T02:54:52.965099Z",
     "start_time": "2024-01-04T02:54:52.936785Z"
    }
   },
   "outputs": [],
   "source": [
    "from IPython.core.interactiveshell import InteractiveShell\n",
    "InteractiveShell.ast_node_interactivity = \"all\"\n",
    "import numpy as np\n",
    "\n",
    "#오차제곱합\n",
    "def sum_squaes_error(y,t):\n",
    "    return 0.5 * np.sum((y-t)**2)\n",
    "\n",
    "#교차엔트로피오차\n",
    "def cross_entropy_error(y,t):\n",
    "    delta = 1e-7 #0이 입력됐을 때 오류가 발생하지 않게 더미\n",
    "    return -np.sum(t*np.log((y+delta)))"
   ]
  },
  {
   "cell_type": "markdown",
   "source": [
    "신경망을 학습할 때 정확도를 지표로 삼아서는 안된다. 정확도를 지표로 하면 매개변수의 미분이 대부분의 장소에서 0이 되기 때문이다"
   ],
   "metadata": {
    "collapsed": false
   },
   "id": "bdf0f971ade460a5"
  },
  {
   "cell_type": "code",
   "execution_count": 40,
   "outputs": [
    {
     "name": "stdout",
     "output_type": "stream",
     "text": [
      "(60000, 784)\n",
      "(60000, 10)\n"
     ]
    }
   ],
   "source": [
    "#미니 배치 학습\n",
    "# 훈련 데이터 중 일부만 골라서 학습하는 방법\n",
    "import sys, os\n",
    "sys.path.append(os.pardir)\n",
    "from dataset.mnist import load_mnist\n",
    "\n",
    "(x_train, t_train), (x_test, t_test) = load_mnist(normalize=True, one_hot_label=True)\n",
    "\n",
    "print(x_train.shape)\n",
    "print(t_train.shape)"
   ],
   "metadata": {
    "collapsed": false,
    "ExecuteTime": {
     "end_time": "2024-01-04T02:54:53.522470Z",
     "start_time": "2024-01-04T02:54:53.342056Z"
    }
   },
   "id": "82d6d676f48b5003"
  },
  {
   "cell_type": "code",
   "execution_count": 41,
   "outputs": [],
   "source": [
    "#무작위 추출\n",
    "train_size = x_train.shape[0]\n",
    "batch_size = 10\n",
    "batch_mask = np.random.choice(train_size, batch_size)\n",
    "x_batch = x_train[batch_mask]\n",
    "t_batch = t_train[batch_mask]\n"
   ],
   "metadata": {
    "collapsed": false,
    "ExecuteTime": {
     "end_time": "2024-01-04T02:54:53.564977Z",
     "start_time": "2024-01-04T02:54:53.525388Z"
    }
   },
   "id": "fd86141c5af23c4c"
  },
  {
   "cell_type": "code",
   "execution_count": 42,
   "outputs": [],
   "source": [
    "#배치용 교차 엔트로피 오차 구현\n",
    "def cross_entropy_error(y, t):\n",
    "    if y.ndim == 1:\n",
    "        t = t.reshape(1, t.size)\n",
    "        y = y.reshape(1, y.size)\n",
    "    \n",
    "    batch_size = y.shape[0]\n",
    "    return -np.sum(t * np.log(y+1e-7)) / batch_size"
   ],
   "metadata": {
    "collapsed": false,
    "ExecuteTime": {
     "end_time": "2024-01-04T02:54:54.056598Z",
     "start_time": "2024-01-04T02:54:54.028122Z"
    }
   },
   "id": "450a98641a35e60f"
  },
  {
   "cell_type": "code",
   "execution_count": 43,
   "outputs": [],
   "source": [
    "#정답이 원-핫 인코딩이 아닌 레이블로 주어졌을 때\n",
    "def cross_entropy_error(y, t):\n",
    "    if y.ndim == 1:\n",
    "        t = t.reshape(1, t.size)\n",
    "        y = y.reshape(1, y.size)\n",
    "\n",
    "    batch_size = y.shape[0]\n",
    "    return -np.sum(np.log(y[np.arange(batch_size),t] + 1e-7)) / batch_size"
   ],
   "metadata": {
    "collapsed": false,
    "ExecuteTime": {
     "end_time": "2024-01-04T02:54:54.726860Z",
     "start_time": "2024-01-04T02:54:54.698991Z"
    }
   },
   "id": "6b9c2502a5a5c4fa"
  },
  {
   "cell_type": "code",
   "execution_count": 45,
   "outputs": [
    {
     "data": {
      "text/plain": "(10,)"
     },
     "execution_count": 45,
     "metadata": {},
     "output_type": "execute_result"
    },
    {
     "data": {
      "text/plain": "(1, 10)"
     },
     "execution_count": 45,
     "metadata": {},
     "output_type": "execute_result"
    },
    {
     "data": {
      "text/plain": "array([[0, 0, 1, 0, 0, 0, 0, 0, 0, 0]])"
     },
     "execution_count": 45,
     "metadata": {},
     "output_type": "execute_result"
    }
   ],
   "source": [
    "t = np.array([0,0,1,0,0,0,0,0,0,0])\n",
    "t.shape\n",
    "\n",
    "t = t.reshape(1,t.size)\n",
    "t.shape\n",
    "t"
   ],
   "metadata": {
    "collapsed": false,
    "ExecuteTime": {
     "end_time": "2024-01-04T02:58:19.722956Z",
     "start_time": "2024-01-04T02:58:19.703329Z"
    }
   },
   "id": "543b6ce4cc781665"
  },
  {
   "cell_type": "markdown",
   "source": [
    "## shape로 확인했을 때\n",
    "(m,) 1차원 \n",
    "(m,n) 2차원\n",
    "(m, n, l) 3차원\n"
   ],
   "metadata": {
    "collapsed": false
   },
   "id": "46dec93c3a8e9fb0"
  },
  {
   "cell_type": "code",
   "execution_count": null,
   "outputs": [],
   "source": [],
   "metadata": {
    "collapsed": false
   },
   "id": "b90d38e8938f1f0e"
  }
 ],
 "metadata": {
  "kernelspec": {
   "name": "study",
   "language": "python",
   "display_name": "STUDY"
  },
  "language_info": {
   "codemirror_mode": {
    "name": "ipython",
    "version": 2
   },
   "file_extension": ".py",
   "mimetype": "text/x-python",
   "name": "python",
   "nbconvert_exporter": "python",
   "pygments_lexer": "ipython2",
   "version": "2.7.6"
  }
 },
 "nbformat": 4,
 "nbformat_minor": 5
}
