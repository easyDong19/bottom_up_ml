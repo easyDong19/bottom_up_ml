{
 "cells": [
  {
   "cell_type": "markdown",
   "source": [
    "## SGD\n",
    "비등방성 함수(방향에 따라 성질이 달라지는 함수에서 탐색 경로가 비효율적이다. "
   ],
   "metadata": {
    "collapsed": false
   },
   "id": "8e1d2dfa745f03d9"
  },
  {
   "cell_type": "code",
   "outputs": [],
   "source": [
    "import numpy as np\n",
    "\n",
    "\n",
    "class SGD:\n",
    "    def __init__(self, lr=0.01):\n",
    "        self.lr = lr\n",
    "    \n",
    "    def update(self, params, grads):\n",
    "        for key in params.keys():\n",
    "            params[key] -= self.lr * grads[key]"
   ],
   "metadata": {
    "collapsed": true,
    "ExecuteTime": {
     "end_time": "2024-01-05T07:04:49.529351Z",
     "start_time": "2024-01-05T07:04:49.516968Z"
    }
   },
   "id": "initial_id",
   "execution_count": 2
  },
  {
   "cell_type": "markdown",
   "source": [
    "## 모멘턴(Momentum)\n",
    "한 방향으로 갈 때 점점 가속할 수 있게 변수 추가 "
   ],
   "metadata": {
    "collapsed": false
   },
   "id": "540f97e112dff1c5"
  },
  {
   "cell_type": "code",
   "outputs": [],
   "source": [
    "class Momentum:\n",
    "    def __init__(self, lr=0.01, momentum=0.9):\n",
    "        self.lr = lr\n",
    "        self.momentum = momentum\n",
    "        self.v = None\n",
    "        \n",
    "    def update(self, params, grads):\n",
    "        if self.v is None:\n",
    "            self.v = {}\n",
    "            for key, val in params.items():\n",
    "                self.v[key] = np.zeros_like(val)\n",
    "                \n",
    "        for key in params.key():\n",
    "            self.v[key] = self.momentum*self.v[key] - self.lr*grads[key]\n",
    "            params[key] += self.v[key]"
   ],
   "metadata": {
    "collapsed": false,
    "ExecuteTime": {
     "end_time": "2024-01-05T07:42:51.837927Z",
     "start_time": "2024-01-05T07:42:51.828772Z"
    }
   },
   "id": "bc7e27c156010d59",
   "execution_count": 3
  },
  {
   "cell_type": "markdown",
   "source": [
    "## AdaGrad\n",
    "학습률 감소 : 학습을 진행하면서 학습률을 점차 줄여가는 방법\n",
    "AdaGrad는 개별 매개변수에 적응적으로 학습률을 조정하면서 학습을 진행한다 "
   ],
   "metadata": {
    "collapsed": false
   },
   "id": "c2cdded13443eb6"
  },
  {
   "cell_type": "code",
   "outputs": [],
   "source": [
    "class AdaGrad:\n",
    "    def __init__(self, lr=0.01):\n",
    "        self.lr = lr\n",
    "        self.h = None\n",
    "        \n",
    "    def update(self, params, grads):\n",
    "        if self.h is None:\n",
    "            self.h = {}\n",
    "        \n",
    "        for key, val in params.items():\n",
    "            self.h[key] = np.zeros_like(val)\n",
    "            \n",
    "    \n",
    "        for key in params.keys():\n",
    "            self.h[key] += grads[key] * grads[key]\n",
    "            params[key] -= self.lr * grads[key] / (np.sqrt(self.h[key]) + 1e-7)"
   ],
   "metadata": {
    "collapsed": false,
    "ExecuteTime": {
     "end_time": "2024-01-05T07:52:36.645252Z",
     "start_time": "2024-01-05T07:52:36.637154Z"
    }
   },
   "id": "272f7bd78a08b90c",
   "execution_count": 5
  },
  {
   "cell_type": "markdown",
   "source": [
    "## Adam\n",
    "모멘텀과 AdaGrad을 합쳐보면 어떨까?"
   ],
   "metadata": {
    "collapsed": false
   },
   "id": "3d737be1c52b4bf7"
  }
 ],
 "metadata": {
  "kernelspec": {
   "name": "study",
   "language": "python",
   "display_name": "STUDY"
  },
  "language_info": {
   "codemirror_mode": {
    "name": "ipython",
    "version": 2
   },
   "file_extension": ".py",
   "mimetype": "text/x-python",
   "name": "python",
   "nbconvert_exporter": "python",
   "pygments_lexer": "ipython2",
   "version": "2.7.6"
  }
 },
 "nbformat": 4,
 "nbformat_minor": 5
}
