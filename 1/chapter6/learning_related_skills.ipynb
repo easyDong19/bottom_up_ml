{
 "cells": [
  {
   "cell_type": "markdown",
   "source": [
    "### 가중치의 초기값\n",
    "\n",
    "초기 값을 0(균일한 값)으로 하면\n",
    "오차역전파법에서 모든 가중치의 값이 똑같이 갱신됨 => 갱신을 거쳐도 같은 값 유지되서 가중치 여러개 갖는 의미 상실\n",
    "\n"
   ],
   "metadata": {
    "collapsed": false
   },
   "id": "7bc375d519b491ef"
  },
  {
   "cell_type": "markdown",
   "source": [
    "### 기울기 소실 문제\n",
    "역전파 알고리즘에서 처음 입력층으로 진행할수록 기울기가 점차적으로 작아지다가 나중에는 기울기의 변화가 없어지는 문제\n",
    "활성화 함수로 시그모이드 함수를 사용하는데 이 함수의 특성으로 인해 발생\n",
    "\n",
    "### 표현력 제한 문제\n",
    "활성화 값들이 치우치면 뉴런을 여러 개 둔 의미가 사라짐. 각 층의 활성화 값은 적당히 고루 분포되어야 함"
   ],
   "metadata": {
    "collapsed": false
   },
   "id": "207ec8fa485d9adb"
  },
  {
   "cell_type": "markdown",
   "source": [
    "### 해결책\n",
    "<b>Xavier 초깃값 :</b> \n",
    "앞 계층의 노드가 n개라면 표준편차가 $\\frac{1}{\\sqrt{n}}$인 분포를 사용하면 된다\n",
    "\n",
    "<b>He 초깃값 : </b>\n",
    "ReLU에 특화된 초깃 값\n",
    "앞 계층의 노드가 n개라면 표준편차가 $\\frac{2}{\\sqrt{n}}$인 분포를 사용하면 된다\n",
    "Relu는 음의 영역이 0이라서 더 넓게 분포시키기 위해 2배의 계수가 필요하다 해석\n"
   ],
   "metadata": {
    "collapsed": false
   },
   "id": "5ca7c79c4fb80f14"
  },
  {
   "cell_type": "markdown",
   "source": [
    "### 배치 정규화\n",
    "각 층의  활성화를 적당히 퍼뜨리도록 '강제'\n",
    "데이터 분포를 정규화하는 <b>배치 정규화 계층</b>을 신경망에 삽입\n",
    "1. 학습을 빨리 진행할 수 있다\n",
    "2. 초깃값에 크게 의존하지 않는다\n",
    "3. 오버피팅을 억제한다"
   ],
   "metadata": {
    "collapsed": false
   },
   "id": "a578b9907e6d753c"
  },
  {
   "cell_type": "markdown",
   "source": [
    "### 오버피팅\n",
    "* 매개변수가 많고 표현력이 높은 모델\n",
    "* 훈련 데이터가 적음\n",
    "\n",
    "### 오버피팅 억제용\n",
    "* 가중치 감소\n",
    "* 드롭 아웃"
   ],
   "metadata": {
    "collapsed": false
   },
   "id": "6992a2911f17d269"
  },
  {
   "cell_type": "markdown",
   "source": [
    "## 적절한 하이퍼파리미터 값 찾기\n",
    "\n",
    "### 검증 데이터\n",
    "하이퍼 파라미터의 성능을 평가할 때는 시험 데이터를 사용하면 안 된다. -> 오버피팅 가능성\n",
    "* 훈련데이터 : 매개변수 학습\n",
    "* 검증 데이터 : 하이퍼파라미터 성능 평가\n",
    "* 시험 데이터 : 신경망의 범용 성능 평가\n",
    "\n",
    "### 하이퍼파라미터 최적화\n",
    "최적 값이 존재하는 범위를 조금 씩 줄여가며 정확도를 평가\n",
    "그리드 서치 같은 규칙적인 탐색보단 무작위 샘플링 탐색이 좋은 효과를 낸다고 알려짐\n",
    "\n",
    "### 절차\n",
    "0. 하이퍼파라미터 값의 범위를 지정\n",
    "1. 설정된 범위에서 하이퍼파라미터의 값을 무작위 추출\n",
    "2. 1단계에서 샘플링한 하이퍼파라미터 값을 사용하여 학습, 검증 데이터로 정확도 평가 (에폭은 작게 설정)\n",
    "3. 1단계, 2단계를 특정 횟수 반복하여 정확도의 결과를 보고 하이퍼파라미터의 범위를 좁힌다 "
   ],
   "metadata": {
    "collapsed": false
   },
   "id": "27a26c1a478acb71"
  }
 ],
 "metadata": {
  "kernelspec": {
   "display_name": "Python 3",
   "language": "python",
   "name": "python3"
  },
  "language_info": {
   "codemirror_mode": {
    "name": "ipython",
    "version": 2
   },
   "file_extension": ".py",
   "mimetype": "text/x-python",
   "name": "python",
   "nbconvert_exporter": "python",
   "pygments_lexer": "ipython2",
   "version": "2.7.6"
  }
 },
 "nbformat": 4,
 "nbformat_minor": 5
}
