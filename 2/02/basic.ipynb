{
 "cells": [
  {
   "cell_type": "markdown",
   "source": [
    "## _Natural Language Processing(NLP)_\n",
    "우리의 말을 컴퓨터에게 이해시키기 위한 기술\n",
    "\n",
    "단어는 <b>의미의 최소 단위</b>\n",
    "* 시소러스를 활용한 기법\n",
    "* 통계 기반 기법\n",
    "* 추론 기반 기법\n",
    "### 시소러스\n",
    "유의어 사전(뜻이 같은 단어)\n",
    "모든 단어에 대한 유의어 집합을 만든 후, 단어들의 관계를 그래프로 표현하여 단어 사이 연결을 정의\n",
    "<br/>\n",
    "### 한계\n",
    "* 시대 변화에 대응하기 어렵다\n",
    "* 비용이 많이 든다\n",
    "* 단어의 미묘한 차이를 표현 할 수 없다\n",
    "### 통계 기반 기법\n",
    "corpus : 자연어 처리나 애플리케이션을 염두에 두고 수집된 대량의 텍스트 데이터"
   ],
   "metadata": {
    "collapsed": false
   },
   "id": "df17fe16f6fd69c9"
  },
  {
   "cell_type": "code",
   "outputs": [
    {
     "data": {
      "text/plain": "['you', 'say', 'goodbye', 'and', 'i', 'say', 'hello', '.']"
     },
     "execution_count": 1,
     "metadata": {},
     "output_type": "execute_result"
    }
   ],
   "source": [
    "# 파이썬으로 말뭉치 전처리 하기\n",
    "text = 'You say goodbye and i say hello.'\n",
    "\n",
    "text = text.lower()\n",
    "text = text.replace('.', ' .')\n",
    "text\n",
    "\n",
    "words = text.split(' ')\n",
    "words\n"
   ],
   "metadata": {
    "collapsed": false,
    "ExecuteTime": {
     "end_time": "2024-01-10T07:05:35.062867Z",
     "start_time": "2024-01-10T07:05:35.056536Z"
    }
   },
   "id": "c55cd54e6031b512",
   "execution_count": 1
  },
  {
   "cell_type": "code",
   "outputs": [],
   "source": [
    "word_to_id = {}\n",
    "id_to_word = {}\n",
    "\n",
    "for word in words:\n",
    "    if word not in word_to_id:\n",
    "        new_id = len(word_to_id)\n",
    "        word_to_id[word] = new_id\n",
    "        id_to_word[new_id] = word"
   ],
   "metadata": {
    "collapsed": false,
    "ExecuteTime": {
     "end_time": "2024-01-10T07:05:35.068944Z",
     "start_time": "2024-01-10T07:05:35.062882Z"
    }
   },
   "id": "22645afd4d8ccfb4",
   "execution_count": 2
  },
  {
   "cell_type": "code",
   "outputs": [
    {
     "data": {
      "text/plain": "array([0, 1, 2, 3, 4, 1, 5, 6])"
     },
     "execution_count": 3,
     "metadata": {},
     "output_type": "execute_result"
    }
   ],
   "source": [
    "import numpy as np\n",
    "corpus = [word_to_id[w] for w in words]\n",
    "corpus = np.array(corpus)\n",
    "corpus"
   ],
   "metadata": {
    "collapsed": false,
    "ExecuteTime": {
     "end_time": "2024-01-10T07:05:35.137661Z",
     "start_time": "2024-01-10T07:05:35.065821Z"
    }
   },
   "id": "45103e01d6be5a7e",
   "execution_count": 3
  },
  {
   "cell_type": "code",
   "outputs": [],
   "source": [
    "def preprocess(text):\n",
    "    text = text.lower()\n",
    "    text = text.replace('.', ' .')\n",
    "    words = text.split(' ')\n",
    "\n",
    "    word_to_id = {}\n",
    "    id_to_word = {}\n",
    "\n",
    "    for word in words:\n",
    "        if word not in word_to_id:\n",
    "            new_id = len(word_to_id)\n",
    "            word_to_id[word] = new_id\n",
    "            id_to_word[new_id] = word\n",
    "            \n",
    "    corpus = np.array([word_to_id[w] for w in words])\n",
    "    \n",
    "    return corpus, word_to_id, id_to_word"
   ],
   "metadata": {
    "collapsed": false,
    "ExecuteTime": {
     "end_time": "2024-01-10T07:05:35.138112Z",
     "start_time": "2024-01-10T07:05:35.135563Z"
    }
   },
   "id": "6f7c5b3a89476e00",
   "execution_count": 4
  },
  {
   "cell_type": "code",
   "outputs": [],
   "source": [
    "text = 'You say goodbye and I say hello.'\n",
    "corpus, word_to_id, id_to_word = preprocess(text)"
   ],
   "metadata": {
    "collapsed": false,
    "ExecuteTime": {
     "end_time": "2024-01-10T07:05:35.144433Z",
     "start_time": "2024-01-10T07:05:35.140747Z"
    }
   },
   "id": "471a5601a0510171",
   "execution_count": 5
  },
  {
   "cell_type": "markdown",
   "source": [
    "### 단어의 분산 표현\n",
    "색을 벡터로 표현하듯(RGB) 단어를 벡터로 표현하는 방법\n",
    "단어를 고정 길이의 밀집벡터(dense vector)로 표현 "
   ],
   "metadata": {
    "collapsed": false
   },
   "id": "fc843655e31a80db"
  },
  {
   "cell_type": "markdown",
   "source": [
    "### 분포 가설\n",
    "단어의 의미는 주변 단어에 의해 형성된다 \n",
    "<b>단어 자체에는 의미가 없고 그 단어가 사용된 맥락이 의미를 결정한다</b>\n",
    "<br/>\n",
    "맥락 : 특정 단어를 중심에 둔 그 주변 단어 "
   ],
   "metadata": {
    "collapsed": false
   },
   "id": "7ae84a5482d7b681"
  },
  {
   "cell_type": "code",
   "outputs": [
    {
     "name": "stdout",
     "output_type": "stream",
     "text": [
      "[0 1 2 3 4 1 5 6]\n",
      "{0: 'you', 1: 'say', 2: 'goodbye', 3: 'and', 4: 'i', 5: 'hello', 6: '.'}\n"
     ]
    }
   ],
   "source": [
    "import sys\n",
    "sys.path.append('..')\n",
    "import numpy as np\n",
    "from common.util import preprocess\n",
    "text = 'You say goodBye and i say hello.'\n",
    "corpus, word_to_id, id_to = preprocess(text)\n",
    "\n",
    "print(corpus)\n",
    "print(id_to_word)\n"
   ],
   "metadata": {
    "collapsed": false,
    "ExecuteTime": {
     "end_time": "2024-01-10T07:05:35.167511Z",
     "start_time": "2024-01-10T07:05:35.144841Z"
    }
   },
   "id": "9a4b6e50708cf081",
   "execution_count": 6
  },
  {
   "cell_type": "code",
   "outputs": [],
   "source": [
    "# 동시 발생 행렬\n",
    "C = np.array([\n",
    "    [0,1,0,0,0,0,0],\n",
    "    [1,0,1,0,1,1,0],\n",
    "    [0,1,0,1,0,0,0],\n",
    "    [0,0,1,0,1,0,0],\n",
    "    [0,1,0,1,0,0,0],\n",
    "    [0,1,0,0,0,0,1],\n",
    "    [0,0,0,0,0,1,0],\n",
    "], dtype=np.int32)"
   ],
   "metadata": {
    "collapsed": false,
    "ExecuteTime": {
     "end_time": "2024-01-10T07:05:35.167817Z",
     "start_time": "2024-01-10T07:05:35.156780Z"
    }
   },
   "id": "d980c76684f7ef0a",
   "execution_count": 7
  },
  {
   "cell_type": "code",
   "outputs": [
    {
     "name": "stdout",
     "output_type": "stream",
     "text": [
      "[0 1 0 1 0 0 0]\n"
     ]
    }
   ],
   "source": [
    "print(C[word_to_id['goodbye']])\n"
   ],
   "metadata": {
    "collapsed": false,
    "ExecuteTime": {
     "end_time": "2024-01-10T07:05:35.168278Z",
     "start_time": "2024-01-10T07:05:35.160265Z"
    }
   },
   "id": "a7960ed093758095",
   "execution_count": 8
  },
  {
   "cell_type": "code",
   "outputs": [],
   "source": [
    "#동시 발생 행렬 자동화\n",
    "def create_co_matrix(corpus, vocab_size, window_size=1):\n",
    "    corpus_size = len(corpus)\n",
    "    co_matrix = np.zeros((vocab_size, vocab_size), dtype=np.int32)\n",
    "    \n",
    "    for idx, word_id in enumerate(corpus):\n",
    "        for i in range(1, window_size + 1):\n",
    "            left_idx = idx - i \n",
    "            right_idx = idx + 1\n",
    "            \n",
    "            if left_idx >= 0:\n",
    "                left_word_id = corpus[left_idx]\n",
    "                co_matrix[word_id, left_word_id] += 1\n",
    "            \n",
    "            if right_idx < corpus_size:\n",
    "                right_word_id = corpus[right_idx]\n",
    "                co_matrix[word_id, right_word_id] += 1\n",
    "    return co_matrix"
   ],
   "metadata": {
    "collapsed": false,
    "ExecuteTime": {
     "end_time": "2024-01-10T07:05:35.168732Z",
     "start_time": "2024-01-10T07:05:35.164986Z"
    }
   },
   "id": "cabbc8d036ef906",
   "execution_count": 9
  },
  {
   "cell_type": "markdown",
   "source": [
    "### 벡터간 유사도 \n",
    "cosine simularity : 두 벡터가 가리키는 방향이 얼마나 비슷한가 "
   ],
   "metadata": {
    "collapsed": false
   },
   "id": "8d18c787649adb4"
  },
  {
   "cell_type": "code",
   "outputs": [],
   "source": [
    "def cos_similarity(x,y, eps=1e-8):\n",
    "    nx = x / np.sqrt(np.sum(x**2) + eps)\n",
    "    ny = y / np.sqrt(np.sum(y**2) + eps)\n",
    "    return np.dot(nx, ny)"
   ],
   "metadata": {
    "collapsed": false,
    "ExecuteTime": {
     "end_time": "2024-01-10T07:05:35.179433Z",
     "start_time": "2024-01-10T07:05:35.168900Z"
    }
   },
   "id": "b4c52acd3d7e8f17",
   "execution_count": 10
  },
  {
   "cell_type": "code",
   "outputs": [
    {
     "name": "stdout",
     "output_type": "stream",
     "text": [
      "0.7071067691154799\n"
     ]
    }
   ],
   "source": [
    "import sys\n",
    "sys.path.append('..')\n",
    "from common.util import preprocess, create_co_matrix, cos_similarity\n",
    "\n",
    "text = 'You say goodBye and i say hello.'\n",
    "corpus, word_to_id, id_to_word = preprocess(text)\n",
    "vocab_size = len(word_to_id)\n",
    "C = create_co_matrix(corpus, vocab_size)\n",
    "\n",
    "c0 = C[word_to_id['you']]\n",
    "c1 = C[word_to_id['i']]\n",
    "print(cos_similarity(c0, c1))"
   ],
   "metadata": {
    "collapsed": false,
    "ExecuteTime": {
     "end_time": "2024-01-10T07:05:35.180015Z",
     "start_time": "2024-01-10T07:05:35.172737Z"
    }
   },
   "id": "110aea0ddcd2da65",
   "execution_count": 11
  },
  {
   "cell_type": "code",
   "outputs": [],
   "source": [
    "def most_similar(query, word_to_id, id_to_word, word_matrix, top=5):\n",
    "    if query not in word_to_id:\n",
    "        print('%s(을)를 찾을 수 없습니다.' % query)\n",
    "        return \n",
    "    \n",
    "    print('\\n[query] ' + query)\n",
    "    query_id = word_to_id[query]\n",
    "    query_vec = word_matrix[query_id]\n",
    "    \n",
    "    vocab_size = len(id_to_word)\n",
    "    similarity = np.zeros(vocab_size)\n",
    "    for i in range(vocab_size):\n",
    "        similarity[i] = cos_similarity(word_matrix[i], query_vec)\n",
    "        \n",
    "    count = 0\n",
    "    for i in (-1 * similarity).argsort():\n",
    "        if id_to_word[i] == query:\n",
    "            continue\n",
    "        print(' %s: %s' % (id_to_word[i], similarity))\n",
    "        \n",
    "        count += 1\n",
    "        if count >= top:\n",
    "            return \n",
    "        \n",
    "    "
   ],
   "metadata": {
    "collapsed": false,
    "ExecuteTime": {
     "end_time": "2024-01-10T07:05:35.185971Z",
     "start_time": "2024-01-10T07:05:35.176082Z"
    }
   },
   "id": "9f33487f30309d8b",
   "execution_count": 12
  },
  {
   "cell_type": "markdown",
   "source": [
    "### 통계 기반 기법 개선하기\n",
    "\n",
    "점별 상호정보량(PMI) \n",
    "$PMI(x,y) = log_2\\frac{P(x,y)}{P(x)P(y)} = log_2\\frac{C(x,y) * N}{C(x)C(y)}$\n",
    "두 단어의 동시 발생 횟수가 0이면 -$\\infty$\n",
    "\n",
    "그래서 양의 상호정보량(PPMI) 사용\n",
    "$PPMI(x,y) = max(0, PMI(x,y))$\n",
    "\n",
    "PPMI 행렬 : 말뭉치의 어휘 수가 증가함에 따라 각 단어 벡터의 차원 수도 증가한다\n"
   ],
   "metadata": {
    "collapsed": false
   },
   "id": "81729bfe1e19ef6b"
  },
  {
   "cell_type": "code",
   "outputs": [],
   "source": [
    "def ppmi(C, verbose=False, eps=1e-8):\n",
    "    M = np.zeros_like(C, dtype=np.float32)\n",
    "    N = np.sum(C)\n",
    "    S = np.sum(C, axis=0)\n",
    "    total = C.shape[0] * C.shape[1]\n",
    "    cnt = 0\n",
    "    \n",
    "    for i in range(C.shape[0]):\n",
    "        for j in range(C.shape[1]):\n",
    "            pmi = np.log2(C[i,j] * N / (S[j]*S[i]) + eps)\n",
    "            M[i, j] = max(0, pmi)\n",
    "            \n",
    "            if verbose:\n",
    "                cnt += 1\n",
    "                if cnt % (total//100) == 0:\n",
    "                    print('%.1f %% 완료' % (100*cnt/total))\n",
    "    \n",
    "    return M"
   ],
   "metadata": {
    "collapsed": false,
    "ExecuteTime": {
     "end_time": "2024-01-10T07:05:35.209200Z",
     "start_time": "2024-01-10T07:05:35.184220Z"
    }
   },
   "id": "c64e0db837d966e",
   "execution_count": 13
  },
  {
   "cell_type": "code",
   "outputs": [
    {
     "name": "stdout",
     "output_type": "stream",
     "text": [
      "동시발생 행렬\n",
      "[[0 1 0 0 0 0]\n",
      " [1 0 1 0 1 1]\n",
      " [0 1 0 1 0 0]\n",
      " [0 0 1 0 1 0]\n",
      " [0 1 0 1 0 0]\n",
      " [0 1 0 0 0 0]]\n",
      "--------------------------------------------------\n",
      "PPMI\n",
      "[[0.    1.585 0.    0.    0.    0.   ]\n",
      " [1.585 0.    0.585 0.    0.585 1.585]\n",
      " [0.    0.585 0.    1.585 0.    0.   ]\n",
      " [0.    0.    1.585 0.    1.585 0.   ]\n",
      " [0.    0.585 0.    1.585 0.    0.   ]\n",
      " [0.    1.585 0.    0.    0.    0.   ]]\n"
     ]
    }
   ],
   "source": [
    "import sys\n",
    "sys.path.append('..')\n",
    "import numpy as np\n",
    "from common.util import preprocess, create_co_matrix, cos_similarity, ppmi\n",
    "\n",
    "text = 'You say goodbye and I say hello'\n",
    "corpus, word_to_id, id_to_word = preprocess(text)\n",
    "vocab_size = len(word_to_id)\n",
    "C = create_co_matrix(corpus, vocab_size)\n",
    "W = ppmi(C)\n",
    "\n",
    "np.set_printoptions(precision=3)\n",
    "print('동시발생 행렬')\n",
    "print(C)\n",
    "print('-'*50)\n",
    "print('PPMI')\n",
    "print(W)"
   ],
   "metadata": {
    "collapsed": false,
    "ExecuteTime": {
     "end_time": "2024-01-10T07:05:35.210208Z",
     "start_time": "2024-01-10T07:05:35.192472Z"
    }
   },
   "id": "d8453bc05c44d874",
   "execution_count": 14
  },
  {
   "cell_type": "markdown",
   "source": [
    "## 특이값 분해\n",
    "$ \\mathbf{X = USV^T} $\n",
    "<br/><br/>\n",
    "U와 V는 직교 행렬이고 열벡터는 서로 직교   <br/>\n",
    "S는 대각행렬이고 대각성분은 특이값이 큰 순서대로 나열 되어 있음(특이값은 중요도)\n"
   ],
   "metadata": {
    "collapsed": false
   },
   "id": "ca82d4b8be713df8"
  },
  {
   "cell_type": "code",
   "outputs": [],
   "source": [
    "import sys \n",
    "sys.path.append('..')\n",
    "import numpy as np\n",
    "import matplotlib.pyplot as plt\n",
    "from common.util import preprocess,create_co_matrix, ppmi\n",
    "\n",
    "text = 'You say goodbye and I say hello.'\n",
    "corpus, word_to_id, id_to_word = preprocess(text)\n",
    "vocab_size = len(id_to_word)\n",
    "C = create_co_matrix(corpus, vocab_size, window_size=1)\n",
    "W = ppmi(C)\n",
    "\n",
    "U,S,V = np.linalg.svd(W)"
   ],
   "metadata": {
    "collapsed": false,
    "ExecuteTime": {
     "end_time": "2024-01-10T07:15:44.625699Z",
     "start_time": "2024-01-10T07:15:44.618327Z"
    }
   },
   "id": "56cd10b84d331a7c",
   "execution_count": 16
  },
  {
   "cell_type": "code",
   "outputs": [],
   "source": [],
   "metadata": {
    "collapsed": false
   },
   "id": "9eb27d768cef8abc"
  }
 ],
 "metadata": {
  "kernelspec": {
   "name": "study",
   "language": "python",
   "display_name": "STUDY"
  },
  "language_info": {
   "codemirror_mode": {
    "name": "ipython",
    "version": 2
   },
   "file_extension": ".py",
   "mimetype": "text/x-python",
   "name": "python",
   "nbconvert_exporter": "python",
   "pygments_lexer": "ipython2",
   "version": "2.7.6"
  }
 },
 "nbformat": 4,
 "nbformat_minor": 5
}
