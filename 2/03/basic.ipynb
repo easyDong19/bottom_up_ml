{
 "cells": [
  {
   "cell_type": "code",
   "outputs": [],
   "source": [
    "from IPython.core.interactiveshell import InteractiveShell\n",
    "InteractiveShell.ast_node_interactivity = \"all\""
   ],
   "metadata": {
    "collapsed": false,
    "ExecuteTime": {
     "end_time": "2024-01-12T01:49:32.658448Z",
     "start_time": "2024-01-12T01:49:32.649992Z"
    }
   },
   "id": "22d40942b85d2494",
   "execution_count": 2
  },
  {
   "cell_type": "markdown",
   "source": [
    "### 통계기반 기법의 문제\n",
    "주변 단어의 빈도를 기초로 단어를 표현 그러나 현업에서 다루는 말뭉치의 어휘 수는 많다\n",
    "<br/>\n",
    "\n",
    "### 통계 기반과 추론 기반 차이\n",
    "통계 기반 기법 : 말뭉치 전체의 통계(동시 발생 행렬과 PPMI 등)을 이용해 단 1회 처리만의 단어 분산 표현\n",
    "추론 기반 기법 : 미니 배치의 학습 샘플씩 반복하여 가중치를 갱신해간다"
   ],
   "metadata": {
    "collapsed": false
   },
   "id": "5288649461d25add"
  },
  {
   "cell_type": "markdown",
   "source": [
    "### 추론 기반 기법 \n",
    "맥락을 입력하면 모델은 각 단어의 출현 확률을 출력한다\n",
    "모델이 올바른 추측을 내놓도록 학습 시키고 그 결과로 단어의 분산 표현을 얻는 것"
   ],
   "metadata": {
    "collapsed": false
   },
   "id": "4773af07cfff932a"
  },
  {
   "cell_type": "code",
   "outputs": [
    {
     "name": "stdout",
     "output_type": "stream",
     "text": [
      "[[-0.49567883  0.6918531   0.91776982]]\n"
     ]
    }
   ],
   "source": [
    "import numpy as np\n",
    "\n",
    "c = np.array([[1, 0, 0, 0, 0, 0, 0]])\n",
    "W = np.random.randn(7,3)\n",
    "h = np.matmul(c,W)\n",
    "print(h)"
   ],
   "metadata": {
    "collapsed": false,
    "ExecuteTime": {
     "end_time": "2024-01-12T01:49:16.777242Z",
     "start_time": "2024-01-12T01:49:16.699456Z"
    }
   },
   "id": "e4eaf6a20fdcd9ed",
   "execution_count": 1
  },
  {
   "cell_type": "code",
   "outputs": [
    {
     "name": "stdout",
     "output_type": "stream",
     "text": [
      "[[-0.47791988 -1.00990464  1.28103816]]\n"
     ]
    }
   ],
   "source": [
    "import sys\n",
    "sys.path.append('..')\n",
    "import numpy as np\n",
    "from common.layers import MatMul\n",
    "c = np.array([[1, 0, 0, 0, 0, 0, 0]])\n",
    "W = np.random.randn(7,3)\n",
    "layer = MatMul(W)\n",
    "h = layer.forward(c)\n",
    "print(h)"
   ],
   "metadata": {
    "collapsed": false,
    "ExecuteTime": {
     "end_time": "2024-01-12T01:51:58.152029Z",
     "start_time": "2024-01-12T01:51:58.143049Z"
    }
   },
   "id": "b7e312e0dc730a6d",
   "execution_count": 6
  },
  {
   "cell_type": "markdown",
   "source": [
    "### CBOW \n",
    "맥락(주변단어)으로부터 중앙단어을 추측하는 용도의 신경망 \n",
    "<b>은닉층의 뉴런 수를 입력층의 뉴런 수보다 적게 하는 것이 중요한 핵심</b>"
   ],
   "metadata": {
    "collapsed": false
   },
   "id": "63d1962e4c462e3b"
  },
  {
   "cell_type": "code",
   "outputs": [
    {
     "name": "stdout",
     "output_type": "stream",
     "text": [
      "[[-2.91523379 -0.06004395 -1.57696206  0.34791734  0.71327536  1.27387991\n",
      "   0.48131375]]\n"
     ]
    }
   ],
   "source": [
    "# coding: utf-8\n",
    "import sys\n",
    "sys.path.append('..')\n",
    "import numpy as np\n",
    "from common.layers import MatMul\n",
    "\n",
    "\n",
    "# 샘플 맥락 데이터\n",
    "c0 = np.array([[1, 0, 0, 0, 0, 0, 0]])\n",
    "c1 = np.array([[0, 0, 1, 0, 0, 0, 0]])\n",
    "\n",
    "# 가중치 초기화\n",
    "W_in = np.random.randn(7, 3)\n",
    "W_out = np.random.randn(3, 7)\n",
    "\n",
    "# 계층 생성\n",
    "in_layer0 = MatMul(W_in)\n",
    "in_layer1 = MatMul(W_in)\n",
    "out_layer = MatMul(W_out)\n",
    "\n",
    "# 순전파\n",
    "h0 = in_layer0.forward(c0)\n",
    "h1 = in_layer1.forward(c1)\n",
    "h = 0.5 * (h0 + h1)\n",
    "s = out_layer.forward(h)\n",
    "print(s)\n"
   ],
   "metadata": {
    "collapsed": false,
    "ExecuteTime": {
     "end_time": "2024-01-12T02:05:57.529277Z",
     "start_time": "2024-01-12T02:05:57.523575Z"
    }
   },
   "id": "e836bb23a5aa2369",
   "execution_count": 7
  },
  {
   "cell_type": "code",
   "outputs": [
    {
     "name": "stdout",
     "output_type": "stream",
     "text": [
      "[0 1 2 3 4 1 5]\n",
      "{0: 'you', 1: 'say', 2: 'goodbye', 3: 'and', 4: 'i', 5: 'hello'}\n"
     ]
    }
   ],
   "source": [
    "import sys\n",
    "sys.path.append('..')\n",
    "from common.util import preprocess\n",
    "\n",
    "text = \"You say goodbye and I say hello\"\n",
    "corpus, word_to_id, id_to_word = preprocess(text)\n",
    "print(corpus)\n",
    "\n",
    "print(id_to_word)"
   ],
   "metadata": {
    "collapsed": false,
    "ExecuteTime": {
     "end_time": "2024-01-12T02:09:12.673199Z",
     "start_time": "2024-01-12T02:09:12.667258Z"
    }
   },
   "id": "d7b79389237e7240",
   "execution_count": 8
  },
  {
   "cell_type": "code",
   "outputs": [],
   "source": [
    "#타깃과 맥락을 만드는 함수\n",
    "def create_contexts_target(corpus, window_size=1):\n",
    "    target = corpus[window_size:-window_size]\n",
    "    contexts = []\n",
    "    \n",
    "    for idx in range(window_size, len(corpus)-window_size):\n",
    "        cs = []\n",
    "        for t in range(-window_size, window_size+1):\n",
    "            if t == 0:\n",
    "                continue\n",
    "            cs.append(corpus[idx + t])\n",
    "        contexts.append(cs)\n",
    "        \n",
    "    return np.array(contexts), np.array(target)"
   ],
   "metadata": {
    "collapsed": false,
    "ExecuteTime": {
     "end_time": "2024-01-12T02:12:04.253223Z",
     "start_time": "2024-01-12T02:12:04.249358Z"
    }
   },
   "id": "3b3ea881224052b6",
   "execution_count": 11
  },
  {
   "cell_type": "code",
   "outputs": [],
   "source": [
    "import sys \n",
    "sys.path.append('..')\n",
    "from common.util import preprocess, create_contexts_target, convert_one_hot\n",
    "\n",
    "text = 'You say goodbye and I say hello'\n",
    "corpus, word_to_id, id_to_word = preprocess(text)\n",
    "\n",
    "contexts, target = create_contexts_target(corpus, window_size=1)\n",
    "\n",
    "vocab_size = len(word_to_id)\n",
    "target = convert_one_hot(target, vocab_size)\n",
    "contexts = convert_one_hot(contexts, vocab_size)"
   ],
   "metadata": {
    "collapsed": false,
    "ExecuteTime": {
     "end_time": "2024-01-12T02:17:15.835443Z",
     "start_time": "2024-01-12T02:17:15.827336Z"
    }
   },
   "id": "786426262ac9146f",
   "execution_count": 13
  },
  {
   "cell_type": "code",
   "outputs": [],
   "source": [],
   "metadata": {
    "collapsed": false
   },
   "id": "ade9c0ea50741ff4"
  }
 ],
 "metadata": {
  "kernelspec": {
   "name": "study",
   "language": "python",
   "display_name": "STUDY"
  },
  "language_info": {
   "codemirror_mode": {
    "name": "ipython",
    "version": 2
   },
   "file_extension": ".py",
   "mimetype": "text/x-python",
   "name": "python",
   "nbconvert_exporter": "python",
   "pygments_lexer": "ipython2",
   "version": "2.7.6"
  }
 },
 "nbformat": 4,
 "nbformat_minor": 5
}
